{
 "cells": [
  {
   "cell_type": "markdown",
   "id": "dc75902b-c478-45a8-bb4c-8f4447e4a3ff",
   "metadata": {},
   "source": [
    " # Problem"
   ]
  },
  {
   "cell_type": "markdown",
   "id": "c485fa3d-1c92-4380-9b97-3be583879fed",
   "metadata": {},
   "source": [
    "predict the amount a customer is willing to pay for a car purchase\n"
   ]
  },
  {
   "cell_type": "markdown",
   "id": "8c5853f3-975f-422e-9eeb-f1dc8cde88e8",
   "metadata": {},
   "source": [
    "# Import Libs"
   ]
  },
  {
   "cell_type": "code",
   "execution_count": null,
   "id": "f278eba7-f40f-43ab-b4b9-7719ba64b920",
   "metadata": {},
   "outputs": [],
   "source": [
    "import pandas as pd\n",
    "import numpy as np\n",
    "import matplotlib.pyplot as plt\n",
    "import seaborn as sns"
   ]
  },
  {
   "cell_type": "markdown",
   "id": "5dc82768-593b-4f08-a6a8-4c852361c624",
   "metadata": {},
   "source": [
    "# Import Data"
   ]
  },
  {
   "cell_type": "code",
   "execution_count": null,
   "id": "652c3b6c-0c1f-4ea7-ada4-ba773868449b",
   "metadata": {},
   "outputs": [],
   "source": [
    "data = pd.read_csv('Car_Purchasing_Data.csv', encoding='ISO-8859-1')\n",
    "data.head()"
   ]
  },
  {
   "cell_type": "markdown",
   "id": "24b3f043-3350-4dce-a05e-8c619d5d1021",
   "metadata": {},
   "source": [
    "# Visualization\n"
   ]
  },
  {
   "cell_type": "code",
   "execution_count": null,
   "id": "da3be1c1-caef-4b31-b3c0-c4c88315390d",
   "metadata": {},
   "outputs": [],
   "source": []
  },
  {
   "cell_type": "code",
   "execution_count": null,
   "id": "cbef88b1-d059-49b7-ac8d-93d94a0cc62f",
   "metadata": {},
   "outputs": [],
   "source": [
    "sns.pairplot(data)"
   ]
  },
  {
   "cell_type": "code",
   "execution_count": null,
   "id": "20391971-b6f7-4908-aba1-886141297140",
   "metadata": {},
   "outputs": [],
   "source": [
    "X = data.drop(columns=['Customer Name', 'Customer e-mail','Country','Car Purchase Amount'],axis=1,inplace=False)\n",
    "y = data['Car Purchase Amount']"
   ]
  },
  {
   "cell_type": "code",
   "execution_count": null,
   "id": "82fa12ab-0940-4695-95ae-40baa41e61fb",
   "metadata": {},
   "outputs": [],
   "source": [
    "X.head(),y.head()"
   ]
  },
  {
   "cell_type": "code",
   "execution_count": null,
   "id": "0d5fedd0-c7b4-4bee-a8fc-525b6d27c8fa",
   "metadata": {},
   "outputs": [],
   "source": [
    "X.shape, y.shape"
   ]
  },
  {
   "cell_type": "markdown",
   "id": "64ac366a-5094-4c26-a40a-5931e60eb30b",
   "metadata": {},
   "source": [
    "# Min-Max Scaling data"
   ]
  },
  {
   "cell_type": "code",
   "execution_count": null,
   "id": "18ac07c6-2e70-4e86-a7b4-faa4114faf7d",
   "metadata": {},
   "outputs": [],
   "source": [
    "from sklearn.preprocessing import MinMaxScaler\n",
    "scaler = MinMaxScaler()\n"
   ]
  },
  {
   "cell_type": "code",
   "execution_count": null,
   "id": "444a3ae1-be33-455f-9c1e-bded889b2542",
   "metadata": {},
   "outputs": [],
   "source": [
    "X_scaled = scaler.fit_transform(X)\n",
    "X_scaled\n",
    "scaler.data_max_, scaler.data_min_"
   ]
  },
  {
   "cell_type": "code",
   "execution_count": null,
   "id": "00acb62d-13f0-4fe9-9ff5-f627e76c6556",
   "metadata": {},
   "outputs": [],
   "source": [
    "y_scaled = scaler.fit_transform(y.values.reshape(-1,1))\n",
    "y_scaled\n",
    "scaler.data_max_, scaler.data_min_"
   ]
  },
  {
   "cell_type": "markdown",
   "id": "dca37743-6a12-4caf-9950-7921de0eb14e",
   "metadata": {},
   "source": [
    "# Training a Model"
   ]
  },
  {
   "cell_type": "code",
   "execution_count": null,
   "id": "b888f614-4825-43ff-babe-4ee83d6c3ced",
   "metadata": {},
   "outputs": [],
   "source": [
    "#training a neural network\n",
    "\n",
    "from sklearn.model_selection import train_test_split\n",
    "\n",
    "X_train, X_test, y_train, y_test = train_test_split(X_scaled,y_scaled)\n",
    "        \n"
   ]
  },
  {
   "cell_type": "code",
   "execution_count": null,
   "id": "d051f401-9f73-4dc8-adba-4f72686a77bd",
   "metadata": {},
   "outputs": [],
   "source": [
    "X_train.shape, y_train.shape,X_test.shape, y_test.shape"
   ]
  },
  {
   "cell_type": "code",
   "execution_count": 79,
   "id": "dabf0fc9-9437-4938-adbf-0d7624d981fd",
   "metadata": {},
   "outputs": [],
   "source": [
    "import tensorflow.keras\n",
    "from keras.models import Sequential\n",
    "from keras.layers import Dense\n",
    "#min-max scaler\n",
    "\n",
    "model = Sequential()\n",
    "model.add(Dense(50 , input_dim = 5, activation = 'relu'))\n",
    "model.add(Dense(50 , activation = 'relu'))\n",
    "model.add(Dense(1  , activation='linear'))\n"
   ]
  },
  {
   "cell_type": "code",
   "execution_count": 80,
   "id": "151b82ec-d001-4820-a4f6-dcbdcb38f1db",
   "metadata": {},
   "outputs": [
    {
     "name": "stdout",
     "output_type": "stream",
     "text": [
      "Model: \"sequential_2\"\n",
      "_________________________________________________________________\n",
      " Layer (type)                Output Shape              Param #   \n",
      "=================================================================\n",
      " dense_6 (Dense)             (None, 50)                300       \n",
      "                                                                 \n",
      " dense_7 (Dense)             (None, 50)                2550      \n",
      "                                                                 \n",
      " dense_8 (Dense)             (None, 1)                 51        \n",
      "                                                                 \n",
      "=================================================================\n",
      "Total params: 2,901\n",
      "Trainable params: 2,901\n",
      "Non-trainable params: 0\n",
      "_________________________________________________________________\n"
     ]
    }
   ],
   "source": [
    " model.summary()"
   ]
  },
  {
   "cell_type": "code",
   "execution_count": 81,
   "id": "50b9321d-0a9b-4e27-bc39-44df3c72eea2",
   "metadata": {},
   "outputs": [],
   "source": [
    "model.compile(optimizer='adam', loss ='mean_squared_error')\n"
   ]
  },
  {
   "cell_type": "code",
   "execution_count": 82,
   "id": "c80330c1-ed1a-4130-85dd-a6ee73f6416f",
   "metadata": {},
   "outputs": [
    {
     "name": "stdout",
     "output_type": "stream",
     "text": [
      "Epoch 1/100\n",
      "6/6 [==============================] - 0s 14ms/step - loss: 0.0359 - val_loss: 0.0237\n",
      "Epoch 2/100\n",
      "6/6 [==============================] - 0s 4ms/step - loss: 0.0190 - val_loss: 0.0150\n",
      "Epoch 3/100\n",
      "6/6 [==============================] - 0s 4ms/step - loss: 0.0106 - val_loss: 0.0102\n",
      "Epoch 4/100\n",
      "6/6 [==============================] - 0s 4ms/step - loss: 0.0089 - val_loss: 0.0097\n",
      "Epoch 5/100\n",
      "6/6 [==============================] - 0s 4ms/step - loss: 0.0075 - val_loss: 0.0062\n",
      "Epoch 6/100\n",
      "6/6 [==============================] - 0s 4ms/step - loss: 0.0067 - val_loss: 0.0052\n",
      "Epoch 7/100\n",
      "6/6 [==============================] - 0s 4ms/step - loss: 0.0056 - val_loss: 0.0055\n",
      "Epoch 8/100\n",
      "6/6 [==============================] - 0s 4ms/step - loss: 0.0050 - val_loss: 0.0043\n",
      "Epoch 9/100\n",
      "6/6 [==============================] - 0s 4ms/step - loss: 0.0045 - val_loss: 0.0037\n",
      "Epoch 10/100\n",
      "6/6 [==============================] - 0s 4ms/step - loss: 0.0039 - val_loss: 0.0033\n",
      "Epoch 11/100\n",
      "6/6 [==============================] - 0s 4ms/step - loss: 0.0035 - val_loss: 0.0028\n",
      "Epoch 12/100\n",
      "6/6 [==============================] - 0s 4ms/step - loss: 0.0032 - val_loss: 0.0024\n",
      "Epoch 13/100\n",
      "6/6 [==============================] - 0s 4ms/step - loss: 0.0028 - val_loss: 0.0023\n",
      "Epoch 14/100\n",
      "6/6 [==============================] - 0s 4ms/step - loss: 0.0025 - val_loss: 0.0019\n",
      "Epoch 15/100\n",
      "6/6 [==============================] - 0s 4ms/step - loss: 0.0022 - val_loss: 0.0017\n",
      "Epoch 16/100\n",
      "6/6 [==============================] - 0s 4ms/step - loss: 0.0020 - val_loss: 0.0015\n",
      "Epoch 17/100\n",
      "6/6 [==============================] - 0s 4ms/step - loss: 0.0017 - val_loss: 0.0012\n",
      "Epoch 18/100\n",
      "6/6 [==============================] - 0s 4ms/step - loss: 0.0015 - val_loss: 0.0011\n",
      "Epoch 19/100\n",
      "6/6 [==============================] - 0s 4ms/step - loss: 0.0013 - val_loss: 9.2378e-04\n",
      "Epoch 20/100\n",
      "6/6 [==============================] - 0s 4ms/step - loss: 0.0011 - val_loss: 8.6183e-04\n",
      "Epoch 21/100\n",
      "6/6 [==============================] - 0s 4ms/step - loss: 9.9012e-04 - val_loss: 7.1057e-04\n",
      "Epoch 22/100\n",
      "6/6 [==============================] - 0s 4ms/step - loss: 8.6183e-04 - val_loss: 6.2684e-04\n",
      "Epoch 23/100\n",
      "6/6 [==============================] - 0s 4ms/step - loss: 7.4772e-04 - val_loss: 5.6296e-04\n",
      "Epoch 24/100\n",
      "6/6 [==============================] - 0s 4ms/step - loss: 6.6456e-04 - val_loss: 4.7461e-04\n",
      "Epoch 25/100\n",
      "6/6 [==============================] - 0s 4ms/step - loss: 5.8096e-04 - val_loss: 4.4385e-04\n",
      "Epoch 26/100\n",
      "6/6 [==============================] - 0s 4ms/step - loss: 5.2129e-04 - val_loss: 3.8283e-04\n",
      "Epoch 27/100\n",
      "6/6 [==============================] - 0s 4ms/step - loss: 4.6473e-04 - val_loss: 3.5045e-04\n",
      "Epoch 28/100\n",
      "6/6 [==============================] - 0s 4ms/step - loss: 4.1240e-04 - val_loss: 3.1128e-04\n",
      "Epoch 29/100\n",
      "6/6 [==============================] - 0s 4ms/step - loss: 3.7531e-04 - val_loss: 2.8475e-04\n",
      "Epoch 30/100\n",
      "6/6 [==============================] - 0s 6ms/step - loss: 3.4654e-04 - val_loss: 2.6691e-04\n",
      "Epoch 31/100\n",
      "6/6 [==============================] - 0s 6ms/step - loss: 3.2019e-04 - val_loss: 2.3877e-04\n",
      "Epoch 32/100\n",
      "6/6 [==============================] - 0s 6ms/step - loss: 2.9424e-04 - val_loss: 2.3217e-04\n",
      "Epoch 33/100\n",
      "6/6 [==============================] - 0s 4ms/step - loss: 2.7455e-04 - val_loss: 2.0150e-04\n",
      "Epoch 34/100\n",
      "6/6 [==============================] - 0s 4ms/step - loss: 2.5175e-04 - val_loss: 1.9661e-04\n",
      "Epoch 35/100\n",
      "6/6 [==============================] - 0s 4ms/step - loss: 2.3748e-04 - val_loss: 1.7803e-04\n",
      "Epoch 36/100\n",
      "6/6 [==============================] - 0s 4ms/step - loss: 2.2679e-04 - val_loss: 1.8581e-04\n",
      "Epoch 37/100\n",
      "6/6 [==============================] - 0s 4ms/step - loss: 2.2201e-04 - val_loss: 1.6437e-04\n",
      "Epoch 38/100\n",
      "6/6 [==============================] - 0s 4ms/step - loss: 2.0634e-04 - val_loss: 1.8152e-04\n",
      "Epoch 39/100\n",
      "6/6 [==============================] - 0s 4ms/step - loss: 1.9456e-04 - val_loss: 1.4488e-04\n",
      "Epoch 40/100\n",
      "6/6 [==============================] - 0s 4ms/step - loss: 1.7607e-04 - val_loss: 1.4855e-04\n",
      "Epoch 41/100\n",
      "6/6 [==============================] - 0s 4ms/step - loss: 1.6350e-04 - val_loss: 1.2778e-04\n",
      "Epoch 42/100\n",
      "6/6 [==============================] - 0s 4ms/step - loss: 1.5491e-04 - val_loss: 1.1867e-04\n",
      "Epoch 43/100\n",
      "6/6 [==============================] - 0s 4ms/step - loss: 1.4340e-04 - val_loss: 1.0841e-04\n",
      "Epoch 44/100\n",
      "6/6 [==============================] - 0s 4ms/step - loss: 1.3491e-04 - val_loss: 1.0436e-04\n",
      "Epoch 45/100\n",
      "6/6 [==============================] - 0s 4ms/step - loss: 1.3057e-04 - val_loss: 9.9455e-05\n",
      "Epoch 46/100\n",
      "6/6 [==============================] - 0s 4ms/step - loss: 1.1789e-04 - val_loss: 9.0903e-05\n",
      "Epoch 47/100\n",
      "6/6 [==============================] - 0s 4ms/step - loss: 1.1215e-04 - val_loss: 8.6511e-05\n",
      "Epoch 48/100\n",
      "6/6 [==============================] - 0s 4ms/step - loss: 1.0531e-04 - val_loss: 7.9948e-05\n",
      "Epoch 49/100\n",
      "6/6 [==============================] - 0s 4ms/step - loss: 9.7387e-05 - val_loss: 7.7354e-05\n",
      "Epoch 50/100\n",
      "6/6 [==============================] - 0s 4ms/step - loss: 9.2700e-05 - val_loss: 7.1319e-05\n",
      "Epoch 51/100\n",
      "6/6 [==============================] - 0s 4ms/step - loss: 8.6758e-05 - val_loss: 6.9562e-05\n",
      "Epoch 52/100\n",
      "6/6 [==============================] - 0s 4ms/step - loss: 8.1883e-05 - val_loss: 6.2915e-05\n",
      "Epoch 53/100\n",
      "6/6 [==============================] - 0s 4ms/step - loss: 7.7411e-05 - val_loss: 6.1138e-05\n",
      "Epoch 54/100\n",
      "6/6 [==============================] - 0s 8ms/step - loss: 7.5351e-05 - val_loss: 5.5424e-05\n",
      "Epoch 55/100\n",
      "6/6 [==============================] - 0s 4ms/step - loss: 6.9353e-05 - val_loss: 5.4808e-05\n",
      "Epoch 56/100\n",
      "6/6 [==============================] - 0s 5ms/step - loss: 6.5985e-05 - val_loss: 4.9171e-05\n",
      "Epoch 57/100\n",
      "6/6 [==============================] - 0s 4ms/step - loss: 6.3381e-05 - val_loss: 4.9069e-05\n",
      "Epoch 58/100\n",
      "6/6 [==============================] - 0s 4ms/step - loss: 6.2617e-05 - val_loss: 4.6726e-05\n",
      "Epoch 59/100\n",
      "6/6 [==============================] - 0s 4ms/step - loss: 5.7478e-05 - val_loss: 4.7745e-05\n",
      "Epoch 60/100\n",
      "6/6 [==============================] - 0s 4ms/step - loss: 5.5670e-05 - val_loss: 4.3388e-05\n",
      "Epoch 61/100\n",
      "6/6 [==============================] - 0s 5ms/step - loss: 5.2226e-05 - val_loss: 4.5020e-05\n",
      "Epoch 62/100\n",
      "6/6 [==============================] - 0s 5ms/step - loss: 5.1929e-05 - val_loss: 5.2621e-05\n",
      "Epoch 63/100\n",
      "6/6 [==============================] - 0s 4ms/step - loss: 5.1360e-05 - val_loss: 3.9456e-05\n",
      "Epoch 64/100\n",
      "6/6 [==============================] - 0s 4ms/step - loss: 4.8979e-05 - val_loss: 3.6670e-05\n",
      "Epoch 65/100\n",
      "6/6 [==============================] - 0s 4ms/step - loss: 4.3631e-05 - val_loss: 3.4716e-05\n",
      "Epoch 66/100\n",
      "6/6 [==============================] - 0s 4ms/step - loss: 3.9815e-05 - val_loss: 3.3246e-05\n",
      "Epoch 67/100\n",
      "6/6 [==============================] - 0s 4ms/step - loss: 3.8672e-05 - val_loss: 3.1778e-05\n",
      "Epoch 68/100\n",
      "6/6 [==============================] - 0s 4ms/step - loss: 3.7881e-05 - val_loss: 3.0254e-05\n",
      "Epoch 69/100\n",
      "6/6 [==============================] - 0s 4ms/step - loss: 3.5716e-05 - val_loss: 3.1319e-05\n",
      "Epoch 70/100\n",
      "6/6 [==============================] - 0s 4ms/step - loss: 3.4539e-05 - val_loss: 2.9381e-05\n",
      "Epoch 71/100\n",
      "6/6 [==============================] - 0s 4ms/step - loss: 3.3991e-05 - val_loss: 2.7683e-05\n",
      "Epoch 72/100\n",
      "6/6 [==============================] - 0s 4ms/step - loss: 3.1330e-05 - val_loss: 2.6897e-05\n",
      "Epoch 73/100\n",
      "6/6 [==============================] - 0s 4ms/step - loss: 2.9793e-05 - val_loss: 2.6157e-05\n",
      "Epoch 74/100\n",
      "6/6 [==============================] - 0s 4ms/step - loss: 2.8593e-05 - val_loss: 2.5216e-05\n",
      "Epoch 75/100\n",
      "6/6 [==============================] - 0s 4ms/step - loss: 2.7377e-05 - val_loss: 2.4052e-05\n",
      "Epoch 76/100\n",
      "6/6 [==============================] - 0s 4ms/step - loss: 2.6467e-05 - val_loss: 2.4106e-05\n",
      "Epoch 77/100\n",
      "6/6 [==============================] - 0s 4ms/step - loss: 2.5617e-05 - val_loss: 2.3691e-05\n",
      "Epoch 78/100\n",
      "6/6 [==============================] - 0s 4ms/step - loss: 2.5350e-05 - val_loss: 2.2838e-05\n",
      "Epoch 79/100\n",
      "6/6 [==============================] - 0s 4ms/step - loss: 2.4039e-05 - val_loss: 2.3415e-05\n",
      "Epoch 80/100\n",
      "6/6 [==============================] - 0s 4ms/step - loss: 2.4173e-05 - val_loss: 2.3187e-05\n",
      "Epoch 81/100\n",
      "6/6 [==============================] - 0s 4ms/step - loss: 2.2748e-05 - val_loss: 2.0895e-05\n",
      "Epoch 82/100\n",
      "6/6 [==============================] - 0s 4ms/step - loss: 2.1705e-05 - val_loss: 2.1060e-05\n",
      "Epoch 83/100\n",
      "6/6 [==============================] - 0s 4ms/step - loss: 2.1066e-05 - val_loss: 2.0832e-05\n",
      "Epoch 84/100\n",
      "6/6 [==============================] - 0s 4ms/step - loss: 2.1303e-05 - val_loss: 2.0507e-05\n",
      "Epoch 85/100\n",
      "6/6 [==============================] - 0s 4ms/step - loss: 2.0625e-05 - val_loss: 1.9168e-05\n",
      "Epoch 86/100\n",
      "6/6 [==============================] - 0s 4ms/step - loss: 1.9839e-05 - val_loss: 2.2414e-05\n",
      "Epoch 87/100\n",
      "6/6 [==============================] - 0s 4ms/step - loss: 2.0476e-05 - val_loss: 1.9175e-05\n",
      "Epoch 88/100\n",
      "6/6 [==============================] - 0s 4ms/step - loss: 1.9729e-05 - val_loss: 2.1954e-05\n",
      "Epoch 89/100\n",
      "6/6 [==============================] - 0s 4ms/step - loss: 2.0789e-05 - val_loss: 1.8368e-05\n",
      "Epoch 90/100\n",
      "6/6 [==============================] - 0s 4ms/step - loss: 1.7507e-05 - val_loss: 1.7826e-05\n",
      "Epoch 91/100\n",
      "6/6 [==============================] - 0s 4ms/step - loss: 1.6934e-05 - val_loss: 1.7862e-05\n",
      "Epoch 92/100\n",
      "6/6 [==============================] - 0s 4ms/step - loss: 1.6519e-05 - val_loss: 1.8667e-05\n",
      "Epoch 93/100\n",
      "6/6 [==============================] - 0s 4ms/step - loss: 1.7370e-05 - val_loss: 1.7002e-05\n",
      "Epoch 94/100\n",
      "6/6 [==============================] - 0s 4ms/step - loss: 1.6312e-05 - val_loss: 1.7667e-05\n",
      "Epoch 95/100\n",
      "6/6 [==============================] - 0s 4ms/step - loss: 1.7128e-05 - val_loss: 1.8235e-05\n",
      "Epoch 96/100\n",
      "6/6 [==============================] - 0s 4ms/step - loss: 1.6342e-05 - val_loss: 2.0320e-05\n",
      "Epoch 97/100\n",
      "6/6 [==============================] - 0s 4ms/step - loss: 1.6745e-05 - val_loss: 1.6805e-05\n",
      "Epoch 98/100\n",
      "6/6 [==============================] - 0s 4ms/step - loss: 1.4977e-05 - val_loss: 1.7349e-05\n",
      "Epoch 99/100\n",
      "6/6 [==============================] - 0s 4ms/step - loss: 1.4958e-05 - val_loss: 1.6170e-05\n",
      "Epoch 100/100\n",
      "6/6 [==============================] - 0s 4ms/step - loss: 1.4003e-05 - val_loss: 1.8078e-05\n"
     ]
    }
   ],
   "source": [
    "epochs_hist = model.fit(X_train,y_train, epochs=100, batch_size=50, verbose=1, validation_split=0.2,)\n"
   ]
  },
  {
   "cell_type": "markdown",
   "id": "025c1a87-d395-4356-ba0e-1ed73f0fc119",
   "metadata": {},
   "source": [
    "# Evaluating the Model"
   ]
  },
  {
   "cell_type": "code",
   "execution_count": 83,
   "id": "f58d17e8-2939-4bcb-998e-d6a0f9b1fb57",
   "metadata": {},
   "outputs": [
    {
     "data": {
      "text/plain": [
       "dict_keys(['loss', 'val_loss'])"
      ]
     },
     "execution_count": 83,
     "metadata": {},
     "output_type": "execute_result"
    }
   ],
   "source": [
    "epochs_hist.history.keys()"
   ]
  },
  {
   "cell_type": "code",
   "execution_count": 84,
   "id": "d1151255-b7df-4744-9774-925013ceb5dd",
   "metadata": {},
   "outputs": [
    {
     "data": {
      "text/plain": [
       "<matplotlib.legend.Legend at 0x7fe9d0d2fc40>"
      ]
     },
     "execution_count": 84,
     "metadata": {},
     "output_type": "execute_result"
    },
    {
     "data": {
      "image/png": "[encoded data removed]",
      "text/plain": [
       "<Figure size 640x480 with 1 Axes>"
      ]
     },
     "metadata": {},
     "output_type": "display_data"
    }
   ],
   "source": [
    "plt.plot(epochs_hist.history['loss'])\n",
    "plt.plot(epochs_hist.history['val_loss'])\n",
    "plt.title('Model Loss during training')\n",
    "plt.ylabel('Y LABEL: Training LOSS')\n",
    "plt.xlabel('X LABEL: EPOCH NUMBER')\n",
    "plt.legend(['Training LOSS', 'VALIDATION LOSS'])"
   ]
  },
  {
   "cell_type": "code",
   "execution_count": 87,
   "id": "03c892bc-66e1-461e-898b-d71ef4ebf823",
   "metadata": {},
   "outputs": [
    {
     "name": "stdout",
     "output_type": "stream",
     "text": [
      "4/4 [==============================] - 0s 1ms/step\n"
     ]
    }
   ],
   "source": [
    " y_predict = model.predict(X_test)"
   ]
  },
  {
   "cell_type": "code",
   "execution_count": null,
   "id": "4f904878-f694-49ba-bb0b-bfe774c13b60",
   "metadata": {},
   "outputs": [],
   "source": []
  }
 ],
 "metadata": {
  "kernelspec": {
   "display_name": "Python 3 (ipykernel)",
   "language": "python",
   "name": "python3"
  },
  "language_info": {
   "codemirror_mode": {
    "name": "ipython",
    "version": 3
   },
   "file_extension": ".py",
   "mimetype": "text/x-python",
   "name": "python",
   "nbconvert_exporter": "python",
   "pygments_lexer": "ipython3",
   "version": "3.9.7"
  }
 },
 "nbformat": 4,
 "nbformat_minor": 5
}
